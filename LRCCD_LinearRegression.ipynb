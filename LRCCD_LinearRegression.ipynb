{
 "cells": [
  {
   "cell_type": "markdown",
   "metadata": {},
   "source": [
    "# Relationship between Area Unemployment and Enrollment at LRCCD: A Simple Linear Regression\n",
    "## Disclaimer\n",
    "This analysis uses only public data and is not meant to inform public policy or decision-making. The work shown below was deveoped for educational purposes. \n",
    "\n",
    "## Background and Purpose\n",
    "The notion that measures of Economic Recession share a correlative relationship with Ca. Community College (CCC) enrollment is almost taken as granted in news, trade publications, and even among CCC faculty. See [here](https://calmatters.org/education/higher-education/college-beat-higher-education/2020/11/community-college-enrollment-drop/?) and [here](https://calmatters.org/education/higher-education/college-beat-higher-education/2020/11/community-college-enrollment-drop/?) for recent articles on this topic.\n",
    "\n",
    "The purpose of this analysis is to understand more about the relationship between the local unemployment rate and enrollment at an individual CCC district, Los Rios Community College District (LRCCD). \n",
    "\n",
    "## Methodology\n",
    "A simple linear regression model is used to analyze the relationship between unemployment and enrollment. Time periods for both unemployment and enrollment data range from Fall 1992 to Fall 2019. Enrollment totals are for total FTES, Fall term only at all LRCCD colleges. Enrollment data was retrieved from CCCCO Data Mart. Unemployment rates are calculated using the mean (average) unemployment rates for June, July, August for Sacramento County. The rationale for the calulated unemployment rate is to create a prevailing unemployment rate for the Sacramento area that corresponds with Fall enrollment at LRCCD. Unemployment data was retrieved from Ca. EDD online data tool. \n",
    "\n",
    "## Limitations and Assumptions\n",
    "There are several limitations to this study. First, only Fall term enrollment data is used in this analysis. The reason for this was to avoid analysis of \"seasonal\" data - techniques for which are out of scope for the present analysis. A potential limitation for the study is the use of a single economic indicator - unemployment - as representative of the overall economic \"climate\" for the region. More - this analysis is focused on a single CCC district and is not meant to be generalizable or represenative for the CCC system overall. A cursory analysis between Sacramento Co. unemployment calculations and the LRCCD service areas suggest overlap. An assumption for the model is that LRCCD students would be most impacted by the prevailing unemployment rate - as calculated in the model. \n"
   ]
  },
  {
   "cell_type": "markdown",
   "metadata": {},
   "source": [
    "## Regression Analysis\n",
    "### Model Preparation"
   ]
  },
  {
   "cell_type": "code",
   "execution_count": 1,
   "metadata": {},
   "outputs": [],
   "source": [
    "#import python libraries\n",
    "import pandas as pd\n",
    "import matplotlib.pyplot as plt\n",
    "import numpy as np\n",
    "import statsmodels.api as sm\n",
    "import math \n",
    "\n",
    "from sklearn.model_selection import train_test_split\n",
    "from sklearn.linear_model import LinearRegression\n",
    "from sklearn.metrics import mean_squared_error, r2_score, mean_absolute_error\n",
    "\n",
    "from scipy import stats\n",
    "from scipy.stats import kurtosis, skew\n",
    "\n",
    "%matplotlib inline"
   ]
  },
  {
   "cell_type": "code",
   "execution_count": 2,
   "metadata": {},
   "outputs": [
    {
     "data": {
      "text/html": [
       "<div>\n",
       "<style scoped>\n",
       "    .dataframe tbody tr th:only-of-type {\n",
       "        vertical-align: middle;\n",
       "    }\n",
       "\n",
       "    .dataframe tbody tr th {\n",
       "        vertical-align: top;\n",
       "    }\n",
       "\n",
       "    .dataframe thead th {\n",
       "        text-align: right;\n",
       "    }\n",
       "</style>\n",
       "<table border=\"1\" class=\"dataframe\">\n",
       "  <thead>\n",
       "    <tr style=\"text-align: right;\">\n",
       "      <th></th>\n",
       "      <th>Academic Term</th>\n",
       "      <th>LRCCD FTE Enrollment</th>\n",
       "      <th>Sac. Co. Unemployment Rate (Jun-Aug Avg)</th>\n",
       "    </tr>\n",
       "  </thead>\n",
       "  <tbody>\n",
       "    <tr>\n",
       "      <th>0</th>\n",
       "      <td>Fall 1992</td>\n",
       "      <td>53881.0</td>\n",
       "      <td>0.084333</td>\n",
       "    </tr>\n",
       "    <tr>\n",
       "      <th>1</th>\n",
       "      <td>Fall 1993</td>\n",
       "      <td>52293.0</td>\n",
       "      <td>0.086000</td>\n",
       "    </tr>\n",
       "    <tr>\n",
       "      <th>2</th>\n",
       "      <td>Fall 1994</td>\n",
       "      <td>51441.0</td>\n",
       "      <td>0.072333</td>\n",
       "    </tr>\n",
       "    <tr>\n",
       "      <th>3</th>\n",
       "      <td>Fall 1995</td>\n",
       "      <td>51953.0</td>\n",
       "      <td>0.071333</td>\n",
       "    </tr>\n",
       "    <tr>\n",
       "      <th>4</th>\n",
       "      <td>Fall 1996</td>\n",
       "      <td>54017.0</td>\n",
       "      <td>0.062000</td>\n",
       "    </tr>\n",
       "  </tbody>\n",
       "</table>\n",
       "</div>"
      ],
      "text/plain": [
       "  Academic Term  LRCCD FTE Enrollment  \\\n",
       "0     Fall 1992               53881.0   \n",
       "1     Fall 1993               52293.0   \n",
       "2     Fall 1994               51441.0   \n",
       "3     Fall 1995               51953.0   \n",
       "4     Fall 1996               54017.0   \n",
       "\n",
       "   Sac. Co. Unemployment Rate (Jun-Aug Avg)  \n",
       "0                                  0.084333  \n",
       "1                                  0.086000  \n",
       "2                                  0.072333  \n",
       "3                                  0.071333  \n",
       "4                                  0.062000  "
      ]
     },
     "execution_count": 2,
     "metadata": {},
     "output_type": "execute_result"
    }
   ],
   "source": [
    "#data load and preparation\n",
    "\n",
    "# load the data \n",
    "df = pd.read_csv('UnemLRCCD3-MoAvg.csv')\n",
    "\n",
    "# set the data type to float\n",
    "df = df.astype({'LRCCD FTE Enrollment': 'float', \n",
    "                'Sac. Co. Unemployment Rate (Jun-Aug Avg)': 'float'})\n",
    "\n",
    "#drop month and year columns\n",
    "df = df.drop(['Year ', 'Month'], axis=1)\n",
    "\n",
    "#display first five rows of table\n",
    "df.head()"
   ]
  },
  {
   "cell_type": "code",
   "execution_count": 3,
   "metadata": {},
   "outputs": [
    {
     "data": {
      "text/plain": [
       "Academic Term                                object\n",
       "LRCCD FTE Enrollment                        float64\n",
       "Sac. Co. Unemployment Rate (Jun-Aug Avg)    float64\n",
       "dtype: object"
      ]
     },
     "execution_count": 3,
     "metadata": {},
     "output_type": "execute_result"
    }
   ],
   "source": [
    "#display data types for table columns\n",
    "df.dtypes"
   ]
  },
  {
   "cell_type": "markdown",
   "metadata": {},
   "source": [
    "\n"
   ]
  },
  {
   "cell_type": "code",
   "execution_count": 24,
   "metadata": {},
   "outputs": [
    {
     "data": {
      "image/png": "[encoded data removed]",
      "text/plain": [
       "<Figure size 432x288 with 1 Axes>"
      ]
     },
     "metadata": {
      "needs_background": "light"
     },
     "output_type": "display_data"
    }
   ],
   "source": [
    "#create scatter plot for data\n",
    "#define x & y\n",
    "x = df['Sac. Co. Unemployment Rate (Jun-Aug Avg)']\n",
    "y = df['LRCCD FTE Enrollment']\n",
    "\n",
    "#create scatter plot\n",
    "plt.plot(x,y, 'o', color = 'cadetblue', label='Enrollment')\n",
    "\n",
    "#additional plot formatting\n",
    "plt.title('LRCCD Fall Enrollment by Sac. Co. Unemployment Rate')\n",
    "plt.xlabel(\"Sac. Co. Unemployment Rate\")\n",
    "plt.ylabel(\"LRCCD Fall Enrollment\")\n",
    "plt.legend()\n",
    "plt.show()\n"
   ]
  },
  {
   "cell_type": "markdown",
   "metadata": {},
   "source": [
    "The above scatterplot does not visually suggest a linear relationship between unemployment and enrollment. The analysis below seeks to statistically demonstrate the relationship between the two variables. Let's see what this data looks like if its charted out along a time-series (in this fall terms 1992-2019)"
   ]
  },
  {
   "cell_type": "code",
   "execution_count": 54,
   "metadata": {},
   "outputs": [
    {
     "data": {
      "image/png": "[encoded data removed]",
      "text/plain": [
       "<Figure size 576x576 with 2 Axes>"
      ]
     },
     "metadata": {
      "needs_background": "light"
     },
     "output_type": "display_data"
    }
   ],
   "source": [
    "#here is an additional view of the data with both enrollment and unemployment rates on the y-axes\n",
    "t = df['Academic Term']\n",
    "data1 = df['Sac. Co. Unemployment Rate (Jun-Aug Avg)']\n",
    "data2 = df['LRCCD FTE Enrollment']\n",
    "\n",
    "fig, ax1 = plt.subplots(figsize = (8,8))\n",
    "\n",
    "color = 'tab:red'\n",
    "ax1.set_xlabel('')\n",
    "ax1.set_ylabel('Sac. Co. Unemployment Rate (Jun-Aug Avg)', color=color)\n",
    "ax1.plot(t, data1, color=color)\n",
    "ax1.tick_params(axis='y', labelcolor=color)\n",
    "ax1.tick_params('x', labelrotation=90) \n",
    "#ax1.tick_params(labelrotation=45)\n",
    "\n",
    "\n",
    "ax2 = ax1.twinx()  # instantiate a second axes that shares the same x-axis\n",
    "\n",
    "color = 'tab:blue'\n",
    "ax2.set_ylabel('LRCCD FTES Enrollment', color=color)  # we already handled the x-label with ax1\n",
    "ax2.plot(t, data2, color=color)\n",
    "ax2.tick_params(axis='y', labelcolor=color)\n",
    "\n",
    "fig.tight_layout()  # otherwise the right y-label is slightly clipped\n",
    "plt.grid(b=True, which='major', color='#999999', linestyle='-', alpha=0.2)\n",
    "plt.grid(b=True, which='minor', color='#999999', linestyle='-', alpha=0.2)\n",
    "plt.show()"
   ]
  },
  {
   "cell_type": "markdown",
   "metadata": {},
   "source": [
    "The above figure is separate from our regression analysis, but does provide interesting (if - competing?) insights. First, in the period between 1992 and 1999 we can see unemployment and enrollment trending in opposite directions - very much contrary to the perception of the variables possessing a positive correlational relationship. Put another way - while both unemployment and enrollment are relatively low during this same period which fits to a perception of low unemployment/low enrollment, the opposite trend lines tell a different story altogether. The five-year period between 2006 and 2010 follow the conventional thinking - as the unemployment rate climbs steeply so, too, does enrollment. From the period of 2010 to 2019 unemployment drops precipitously, while enrollment dips then stabilizes. "
   ]
  },
  {
   "cell_type": "markdown",
   "metadata": {},
   "source": [
    "## Regression Modeling\n",
    "In the cells below, I begin to explore the correlations between unemployment and enrollment and to build the regression model. "
   ]
  },
  {
   "cell_type": "code",
   "execution_count": 52,
   "metadata": {},
   "outputs": [
    {
     "data": {
      "text/html": [
       "<div>\n",
       "<style scoped>\n",
       "    .dataframe tbody tr th:only-of-type {\n",
       "        vertical-align: middle;\n",
       "    }\n",
       "\n",
       "    .dataframe tbody tr th {\n",
       "        vertical-align: top;\n",
       "    }\n",
       "\n",
       "    .dataframe thead th {\n",
       "        text-align: right;\n",
       "    }\n",
       "</style>\n",
       "<table border=\"1\" class=\"dataframe\">\n",
       "  <thead>\n",
       "    <tr style=\"text-align: right;\">\n",
       "      <th></th>\n",
       "      <th>LRCCD FTE Enrollment</th>\n",
       "      <th>Sac. Co. Unemployment Rate (Jun-Aug Avg)</th>\n",
       "    </tr>\n",
       "  </thead>\n",
       "  <tbody>\n",
       "    <tr>\n",
       "      <th>LRCCD FTE Enrollment</th>\n",
       "      <td>1.000000</td>\n",
       "      <td>0.209243</td>\n",
       "    </tr>\n",
       "    <tr>\n",
       "      <th>Sac. Co. Unemployment Rate (Jun-Aug Avg)</th>\n",
       "      <td>0.209243</td>\n",
       "      <td>1.000000</td>\n",
       "    </tr>\n",
       "  </tbody>\n",
       "</table>\n",
       "</div>"
      ],
      "text/plain": [
       "                                          LRCCD FTE Enrollment  \\\n",
       "LRCCD FTE Enrollment                                  1.000000   \n",
       "Sac. Co. Unemployment Rate (Jun-Aug Avg)              0.209243   \n",
       "\n",
       "                                          Sac. Co. Unemployment Rate (Jun-Aug Avg)  \n",
       "LRCCD FTE Enrollment                                                      0.209243  \n",
       "Sac. Co. Unemployment Rate (Jun-Aug Avg)                                  1.000000  "
      ]
     },
     "execution_count": 52,
     "metadata": {},
     "output_type": "execute_result"
    }
   ],
   "source": [
    "#Measure the correlation\n",
    "df.corr()"
   ]
  },
  {
   "cell_type": "markdown",
   "metadata": {},
   "source": [
    "A correlation is a measurement of the strength of the relationship between two variables. In the present case we have a correlation of ~.209. This is considered to be a weak relationship. Despite this rather weak relationship, we will continue with our analysis beginning with a statistical summary of our dataset. "
   ]
  },
  {
   "cell_type": "code",
   "execution_count": 6,
   "metadata": {},
   "outputs": [
    {
     "data": {
      "text/html": [
       "<div>\n",
       "<style scoped>\n",
       "    .dataframe tbody tr th:only-of-type {\n",
       "        vertical-align: middle;\n",
       "    }\n",
       "\n",
       "    .dataframe tbody tr th {\n",
       "        vertical-align: top;\n",
       "    }\n",
       "\n",
       "    .dataframe thead th {\n",
       "        text-align: right;\n",
       "    }\n",
       "</style>\n",
       "<table border=\"1\" class=\"dataframe\">\n",
       "  <thead>\n",
       "    <tr style=\"text-align: right;\">\n",
       "      <th></th>\n",
       "      <th>LRCCD FTE Enrollment</th>\n",
       "      <th>Sac. Co. Unemployment Rate (Jun-Aug Avg)</th>\n",
       "    </tr>\n",
       "  </thead>\n",
       "  <tbody>\n",
       "    <tr>\n",
       "      <th>count</th>\n",
       "      <td>28.000000</td>\n",
       "      <td>28.000000</td>\n",
       "    </tr>\n",
       "    <tr>\n",
       "      <th>mean</th>\n",
       "      <td>69373.250000</td>\n",
       "      <td>0.068393</td>\n",
       "    </tr>\n",
       "    <tr>\n",
       "      <th>std</th>\n",
       "      <td>9957.796691</td>\n",
       "      <td>0.024788</td>\n",
       "    </tr>\n",
       "    <tr>\n",
       "      <th>min</th>\n",
       "      <td>51441.000000</td>\n",
       "      <td>0.039000</td>\n",
       "    </tr>\n",
       "    <tr>\n",
       "      <th>25%</th>\n",
       "      <td>63649.500000</td>\n",
       "      <td>0.049750</td>\n",
       "    </tr>\n",
       "    <tr>\n",
       "      <th>50%</th>\n",
       "      <td>72869.500000</td>\n",
       "      <td>0.059667</td>\n",
       "    </tr>\n",
       "    <tr>\n",
       "      <th>75%</th>\n",
       "      <td>74440.250000</td>\n",
       "      <td>0.077083</td>\n",
       "    </tr>\n",
       "    <tr>\n",
       "      <th>max</th>\n",
       "      <td>85962.000000</td>\n",
       "      <td>0.127000</td>\n",
       "    </tr>\n",
       "  </tbody>\n",
       "</table>\n",
       "</div>"
      ],
      "text/plain": [
       "       LRCCD FTE Enrollment  Sac. Co. Unemployment Rate (Jun-Aug Avg)\n",
       "count             28.000000                                 28.000000\n",
       "mean           69373.250000                                  0.068393\n",
       "std             9957.796691                                  0.024788\n",
       "min            51441.000000                                  0.039000\n",
       "25%            63649.500000                                  0.049750\n",
       "50%            72869.500000                                  0.059667\n",
       "75%            74440.250000                                  0.077083\n",
       "max            85962.000000                                  0.127000"
      ]
     },
     "execution_count": 6,
     "metadata": {},
     "output_type": "execute_result"
    }
   ],
   "source": [
    "#statistical summary of dataframe\n",
    "df.describe()"
   ]
  },
  {
   "cell_type": "markdown",
   "metadata": {},
   "source": [
    "In this statistical summary I am looking for outliers in our data. There is nothing here that raises any red flags or would give me any pause in moving forward with our analysis. "
   ]
  },
  {
   "cell_type": "markdown",
   "metadata": {},
   "source": [
    "Next we will look at a histogram for each columns of our data looking for visual cues for skewness of our data. Ideally, we would want to have normally distributed data. "
   ]
  },
  {
   "cell_type": "code",
   "execution_count": 7,
   "metadata": {},
   "outputs": [
    {
     "data": {
      "text/plain": [
       "array([[<AxesSubplot:title={'center':'LRCCD FTE Enrollment'}>,\n",
       "        <AxesSubplot:title={'center':'Sac. Co. Unemployment Rate (Jun-Aug Avg)'}>]],\n",
       "      dtype=object)"
      ]
     },
     "execution_count": 7,
     "metadata": {},
     "output_type": "execute_result"
    },
    {
     "data": {
      "image/png": "[encoded data removed]",
      "text/plain": [
       "<Figure size 432x288 with 2 Axes>"
      ]
     },
     "metadata": {
      "needs_background": "light"
     },
     "output_type": "display_data"
    }
   ],
   "source": [
    "#checking for outliers and skewness by graphing histogram for each column of data\n",
    "df.hist(grid = False, color = 'cadetblue')"
   ]
  },
  {
   "cell_type": "markdown",
   "metadata": {},
   "source": [
    "Looking at the histograms above we can see that our measured attributes are not normally distributed. But, we want to attach some measures to that analysis by performing both Kurtosis and Skew tests. "
   ]
  },
  {
   "cell_type": "code",
   "execution_count": 8,
   "metadata": {},
   "outputs": [
    {
     "data": {
      "text/plain": [
       "'Enrolmment excess kurtosis: -0.71'"
      ]
     },
     "metadata": {},
     "output_type": "display_data"
    },
    {
     "data": {
      "text/plain": [
       "'Unemployment excess kurtosis: 0.18'"
      ]
     },
     "metadata": {},
     "output_type": "display_data"
    },
    {
     "data": {
      "text/plain": [
       "'Enrollment skew: -0.55'"
      ]
     },
     "metadata": {},
     "output_type": "display_data"
    },
    {
     "data": {
      "text/plain": [
       "'Unemployment skew: 1.1'"
      ]
     },
     "metadata": {},
     "output_type": "display_data"
    }
   ],
   "source": [
    "#calculate excess kurtosis using the fisher method.\n",
    "enroll_kurtosis = kurtosis(df['LRCCD FTE Enrollment'], fisher = True)\n",
    "unem_kurtosis = kurtosis(df['Sac. Co. Unemployment Rate (Jun-Aug Avg)'], fisher = True)\n",
    "\n",
    "#calculate the skewness\n",
    "enroll_skew = skew(df['LRCCD FTE Enrollment'])\n",
    "unem_skew = skew(df['Sac. Co. Unemployment Rate (Jun-Aug Avg)'])\n",
    "\n",
    "display(\"Enrolmment excess kurtosis: {:.2}\".format(enroll_kurtosis))\n",
    "display(\"Unemployment excess kurtosis: {:.2}\".format(unem_kurtosis))\n",
    "\n",
    "display(\"Enrollment skew: {:.2}\".format(enroll_skew))\n",
    "display(\"Unemployment skew: {:.2}\".format(unem_skew))"
   ]
  },
  {
   "cell_type": "code",
   "execution_count": 9,
   "metadata": {},
   "outputs": [
    {
     "data": {
      "text/plain": [
       "'Enrollment'"
      ]
     },
     "metadata": {},
     "output_type": "display_data"
    },
    {
     "data": {
      "text/plain": [
       "KurtosistestResult(statistic=-0.7156684819519029, pvalue=0.47419607677039743)"
      ]
     },
     "metadata": {},
     "output_type": "display_data"
    },
    {
     "data": {
      "text/plain": [
       "'Unemployment'"
      ]
     },
     "metadata": {},
     "output_type": "display_data"
    },
    {
     "data": {
      "text/plain": [
       "KurtosistestResult(statistic=0.7510440089081225, pvalue=0.4526261706497744)"
      ]
     },
     "metadata": {},
     "output_type": "display_data"
    },
    {
     "data": {
      "text/plain": [
       "'Enrollment'"
      ]
     },
     "metadata": {},
     "output_type": "display_data"
    },
    {
     "data": {
      "text/plain": [
       "SkewtestResult(statistic=-1.3426166801822097, pvalue=0.17939612641514358)"
      ]
     },
     "metadata": {},
     "output_type": "display_data"
    },
    {
     "data": {
      "text/plain": [
       "'Unemployment'"
      ]
     },
     "metadata": {},
     "output_type": "display_data"
    },
    {
     "data": {
      "text/plain": [
       "SkewtestResult(statistic=2.461101365426574, pvalue=0.01385112262478277)"
      ]
     },
     "metadata": {},
     "output_type": "display_data"
    }
   ],
   "source": [
    "# perform a kurtosis test\n",
    "display('Enrollment')\n",
    "display(stats.kurtosistest(df['LRCCD FTE Enrollment']))\n",
    "display('Unemployment')\n",
    "display(stats.kurtosistest(df['Sac. Co. Unemployment Rate (Jun-Aug Avg)']))\n",
    "\n",
    "# perform a skew test\n",
    "display('Enrollment')\n",
    "display(stats.skewtest(df['LRCCD FTE Enrollment']))\n",
    "display('Unemployment')\n",
    "display(stats.skewtest(df['Sac. Co. Unemployment Rate (Jun-Aug Avg)']))"
   ]
  },
  {
   "cell_type": "markdown",
   "metadata": {},
   "source": []
  },
  {
   "cell_type": "markdown",
   "metadata": {},
   "source": [
    "## Building the Regression Model"
   ]
  },
  {
   "cell_type": "code",
   "execution_count": 10,
   "metadata": {},
   "outputs": [],
   "source": [
    "#Building the model - Split the data\n",
    "#define input and output variables (X&Y)\n",
    "Y = df[['LRCCD FTE Enrollment']]\n",
    "X = df[['Sac. Co. Unemployment Rate (Jun-Aug Avg)']]\n",
    "\n",
    "# Split X and y into X_\n",
    "X_train, X_test, y_train, y_test = train_test_split(X, Y, test_size=0.30, random_state=1)"
   ]
  },
  {
   "cell_type": "code",
   "execution_count": 55,
   "metadata": {},
   "outputs": [
    {
     "data": {
      "text/plain": [
       "LinearRegression()"
      ]
     },
     "execution_count": 55,
     "metadata": {},
     "output_type": "execute_result"
    }
   ],
   "source": [
    "#create a linear regression model object\n",
    "regression_model = LinearRegression()\n",
    "\n",
    "#pass through the X_train and y_train data set\n",
    "regression_model.fit(X_train, y_train)"
   ]
  },
  {
   "cell_type": "markdown",
   "metadata": {},
   "source": [
    "### Visualizing our regression model. \n",
    "Taking a look now at our plotted regression model - the regression line is very underwhelming. A line approaching horizontal suggests there is no significant relationship between our two variables. Nevertheless, we will continue with our analysis. "
   ]
  },
  {
   "cell_type": "code",
   "execution_count": 22,
   "metadata": {},
   "outputs": [
    {
     "data": {
      "image/png": "[encoded data removed]",
      "text/plain": [
       "<Figure size 432x288 with 1 Axes>"
      ]
     },
     "metadata": {
      "needs_background": "light"
     },
     "output_type": "display_data"
    }
   ],
   "source": [
    "# Plot outputs\n",
    "plt.scatter(X_test, y_test,  color='gainsboro', label = 'Enrollment')\n",
    "plt.plot(X_test, y_predict, color='royalblue', linewidth = 3, linestyle= '-',label ='Regression Line')\n",
    "\n",
    "plt.title(\"Linear Regression CA. Unemployment vs. LRCCD Fall Enrollment\")\n",
    "plt.xlabel(\"CA Unem. Rate\")\n",
    "plt.ylabel(\"Enrollment\")\n",
    "plt.legend()\n",
    "plt.show()"
   ]
  },
  {
   "cell_type": "markdown",
   "metadata": {},
   "source": [
    "## Establishing coefficient, intercept and regression equation"
   ]
  },
  {
   "cell_type": "code",
   "execution_count": 56,
   "metadata": {},
   "outputs": [
    {
     "name": "stdout",
     "output_type": "stream",
     "text": [
      "The coefficient for our model is -1.942e+04\n",
      "The intercept for our model is 6.868e+04\n"
     ]
    }
   ],
   "source": [
    "#capturing coefficient and intercept for model. \n",
    "intercept = regression_model.intercept_[0]\n",
    "coefficient = regression_model.coef_[0][0]\n",
    "\n",
    "print(\"The coefficient for our model is {:.4}\".format(coefficient))\n",
    "print(\"The intercept for our model is {:.4}\".format(intercept))\n"
   ]
  },
  {
   "cell_type": "markdown",
   "metadata": {},
   "source": [
    "Given our coefficient and intercept, we can now establish that our predictive line is: \n",
    "Predicted value for enrollment = -19,420(unemployment rate) + 68,680. \n",
    "\n",
    "Below we make some predictions by plugging in different values for the unemployment rate. "
   ]
  },
  {
   "cell_type": "code",
   "execution_count": 57,
   "metadata": {},
   "outputs": [
    {
     "name": "stdout",
     "output_type": "stream",
     "text": [
      "The predicted value is 6.829e+04\n"
     ]
    }
   ],
   "source": [
    "#Making a single prediction\n",
    "prediction = regression_model.predict([[0.020]])\n",
    "predicted_value = prediction[0][0]\n",
    "print(\"The predicted value is {:.4}\".format(predicted_value))"
   ]
  },
  {
   "cell_type": "code",
   "execution_count": 14,
   "metadata": {},
   "outputs": [
    {
     "data": {
      "text/plain": [
       "array([[67577.2115723 ],\n",
       "       [66470.36275832],\n",
       "       [66263.23316865],\n",
       "       [66586.87315979],\n",
       "       [67726.08598065]])"
      ]
     },
     "execution_count": 14,
     "metadata": {},
     "output_type": "execute_result"
    }
   ],
   "source": [
    "#Making multiple predictions at once\n",
    "# Get multiple predictions.\n",
    "y_predict = regression_model.predict(X_test)\n",
    "\n",
    "# Show the first 5 predictions\n",
    "y_predict[:5]"
   ]
  },
  {
   "cell_type": "markdown",
   "metadata": {},
   "source": [
    "## Model Evaluation\n",
    "Although we have a working prediction model, we need to evaluate how useful it is. In order to do this, we will re-create the model, refit the model and run a series of tests. "
   ]
  },
  {
   "cell_type": "code",
   "execution_count": 15,
   "metadata": {},
   "outputs": [],
   "source": [
    "#Evaluating the Model\n",
    "# define our intput\n",
    "X2 = sm.add_constant(X)\n",
    "\n",
    "# create a OLS model.\n",
    "model = sm.OLS(Y, X2)\n",
    "\n",
    "# fit the data\n",
    "est = model.fit()"
   ]
  },
  {
   "cell_type": "markdown",
   "metadata": {},
   "source": [
    "### Confidence Intervals\n",
    "Confidence intervals can be interpreted as our \"confidence\" (in this case 95%) that our co-efficient falls between two intervals. In this case, the interval is rather large, leading me to be more concerned about the strength of our model. "
   ]
  },
  {
   "cell_type": "code",
   "execution_count": 16,
   "metadata": {},
   "outputs": [
    {
     "data": {
      "text/html": [
       "<div>\n",
       "<style scoped>\n",
       "    .dataframe tbody tr th:only-of-type {\n",
       "        vertical-align: middle;\n",
       "    }\n",
       "\n",
       "    .dataframe tbody tr th {\n",
       "        vertical-align: top;\n",
       "    }\n",
       "\n",
       "    .dataframe thead th {\n",
       "        text-align: right;\n",
       "    }\n",
       "</style>\n",
       "<table border=\"1\" class=\"dataframe\">\n",
       "  <thead>\n",
       "    <tr style=\"text-align: right;\">\n",
       "      <th></th>\n",
       "      <th>0</th>\n",
       "      <th>1</th>\n",
       "    </tr>\n",
       "  </thead>\n",
       "  <tbody>\n",
       "    <tr>\n",
       "      <th>const</th>\n",
       "      <td>52128.703392</td>\n",
       "      <td>75120.244989</td>\n",
       "    </tr>\n",
       "    <tr>\n",
       "      <th>Sac. Co. Unemployment Rate (Jun-Aug Avg)</th>\n",
       "      <td>-74298.550227</td>\n",
       "      <td>242408.965622</td>\n",
       "    </tr>\n",
       "  </tbody>\n",
       "</table>\n",
       "</div>"
      ],
      "text/plain": [
       "                                                     0              1\n",
       "const                                     52128.703392   75120.244989\n",
       "Sac. Co. Unemployment Rate (Jun-Aug Avg) -74298.550227  242408.965622"
      ]
     },
     "execution_count": 16,
     "metadata": {},
     "output_type": "execute_result"
    }
   ],
   "source": [
    "#Confidence Intervals. \n",
    "#Make some confidence intervals, 95% by default. \n",
    "est.conf_int()"
   ]
  },
  {
   "cell_type": "markdown",
   "metadata": {},
   "source": [
    "## Hypothesis Testing"
   ]
  },
  {
   "cell_type": "markdown",
   "metadata": {},
   "source": [
    "Null Hypothesis: There is no relationship between area unemployment and LRCCD fall enrollment. \n",
    "    The coefficient equals 0.\n",
    "\n",
    "Alternative Hypothesis: There IS a relationship between area unemployment and LRCCD fall enrollment. \n",
    "    The coefficient does not equal to 0.\n",
    "    \n",
    "If we reject the null, we are saying there is a relationship, and the coefficient does not equal 0.\n",
    "\n",
    "If we fail to reject the null, we are saying there is no relationship, and the coefficient does equal 0.\n",
    "\n",
    "The p-value represents the probability that the coefficient equals 0. We want a p-value that is less than 0.05 if it is we can reject the null hypothesis. "
   ]
  },
  {
   "cell_type": "code",
   "execution_count": 17,
   "metadata": {},
   "outputs": [
    {
     "data": {
      "text/plain": [
       "const                                       1.354660e-11\n",
       "Sac. Co. Unemployment Rate (Jun-Aug Avg)    2.852424e-01\n",
       "dtype: float64"
      ]
     },
     "execution_count": 17,
     "metadata": {},
     "output_type": "execute_result"
    }
   ],
   "source": [
    "# estimate the p-values.\n",
    "est.pvalues"
   ]
  },
  {
   "cell_type": "markdown",
   "metadata": {},
   "source": [
    "The p-value represents the probability that the coefficient equals 0. We want a p-value that is less than 0.05. If it is we can reject the null hypothesis. In this case, the p-value for the oil_price coefficient is much lower than 0.05, so we can NOT reject the null hypothesis. \n",
    "\n",
    "In this case the p-value is approximately .285, thus we can not reject the null hypothesis - meaning there is NOT a relationship between unemployment and enrollment, as calculated in our model. \n",
    "\n",
    "It is clear at this point that our linear regression model is fatally flawed - but we will continue by assessing fitness of the model. "
   ]
  },
  {
   "cell_type": "markdown",
   "metadata": {},
   "source": [
    "## Model Fit\n",
    "\n",
    "Mean Absolute Error (MAE): Is the mean of the absolute value of the errors. This metric gives an idea of magnitude but no idea of direction (too high or too low).\n",
    "\n",
    "Mean Squared Error (MSE): Is the mean of the squared errors.MSE is more popular than MAE because MSE \"punishes\" more significant errors.\n",
    "\n",
    "Root Mean Squared Error (RMSE): Is the square root of the mean of the squared errors. RMSE is even more favored because it allows us to interpret the output in y-units."
   ]
  },
  {
   "cell_type": "code",
   "execution_count": 18,
   "metadata": {},
   "outputs": [
    {
     "name": "stdout",
     "output_type": "stream",
     "text": [
      "The Mean Squared Error (MSE) is 1.15e+08\n",
      "The Mean Absolute Error (MAE) is 9.7e+03\n",
      "The Root Mean Squared Error (rMSE) is 1.07e+04\n"
     ]
    }
   ],
   "source": [
    "#Model Fitness\n",
    "\n",
    "#mean squared error\n",
    "model_mse = mean_squared_error(y_test, y_predict)\n",
    "\n",
    "#mean absolute error\n",
    "model_mae = mean_absolute_error (y_test, y_predict)\n",
    "\n",
    "#root mean squared error\n",
    "model_rmse = math.sqrt(model_mse)\n",
    "\n",
    "print (\"The Mean Squared Error (MSE) is {:.3}\".format(model_mse))\n",
    "print (\"The Mean Absolute Error (MAE) is {:.3}\".format(model_mae))\n",
    "print (\"The Root Mean Squared Error (rMSE) is {:.3}\".format(model_rmse))"
   ]
  },
  {
   "cell_type": "code",
   "execution_count": 19,
   "metadata": {},
   "outputs": [
    {
     "name": "stdout",
     "output_type": "stream",
     "text": [
      "R2 is -0.606\n"
     ]
    }
   ],
   "source": [
    "#R-Squared\n",
    "model_r2 = r2_score(y_test, y_predict)\n",
    "print (\"R2 is {:.3}\".format(model_r2))"
   ]
  },
  {
   "cell_type": "code",
   "execution_count": 20,
   "metadata": {},
   "outputs": [
    {
     "name": "stdout",
     "output_type": "stream",
     "text": [
      "                             OLS Regression Results                             \n",
      "================================================================================\n",
      "Dep. Variable:     LRCCD FTE Enrollment   R-squared:                       0.044\n",
      "Model:                              OLS   Adj. R-squared:                  0.007\n",
      "Method:                   Least Squares   F-statistic:                     1.190\n",
      "Date:                  Mon, 28 Dec 2020   Prob (F-statistic):              0.285\n",
      "Time:                          18:29:43   Log-Likelihood:                -296.37\n",
      "No. Observations:                    28   AIC:                             596.7\n",
      "Df Residuals:                        26   BIC:                             599.4\n",
      "Df Model:                             1                                         \n",
      "Covariance Type:              nonrobust                                         \n",
      "============================================================================================================\n",
      "                                               coef    std err          t      P>|t|      [0.025      0.975]\n",
      "------------------------------------------------------------------------------------------------------------\n",
      "const                                     6.362e+04   5592.608     11.377      0.000    5.21e+04    7.51e+04\n",
      "Sac. Co. Unemployment Rate (Jun-Aug Avg)  8.406e+04    7.7e+04      1.091      0.285   -7.43e+04    2.42e+05\n",
      "==============================================================================\n",
      "Omnibus:                        3.686   Durbin-Watson:                   0.086\n",
      "Prob(Omnibus):                  0.158   Jarque-Bera (JB):                3.282\n",
      "Skew:                          -0.795   Prob(JB):                        0.194\n",
      "Kurtosis:                       2.466   Cond. No.                         41.3\n",
      "==============================================================================\n",
      "\n",
      "Notes:\n",
      "[1] Standard Errors assume that the covariance matrix of the errors is correctly specified.\n"
     ]
    }
   ],
   "source": [
    "#Create and print out a summary of the model\n",
    "print(est.summary())"
   ]
  },
  {
   "cell_type": "code",
   "execution_count": 21,
   "metadata": {},
   "outputs": [
    {
     "data": {
      "image/png": "[encoded data removed]",
      "text/plain": [
       "<Figure size 432x288 with 1 Axes>"
      ]
     },
     "metadata": {
      "needs_background": "light"
     },
     "output_type": "display_data"
    }
   ],
   "source": [
    "#Plot residuals\n",
    "(y_test - y_predict).hist(grid=False, color = 'royalblue')\n",
    "plt.title(\"Model Residuals\")\n",
    "plt.show()"
   ]
  },
  {
   "cell_type": "code",
   "execution_count": null,
   "metadata": {},
   "outputs": [],
   "source": []
  },
  {
   "cell_type": "code",
   "execution_count": null,
   "metadata": {},
   "outputs": [],
   "source": []
  },
  {
   "cell_type": "code",
   "execution_count": null,
   "metadata": {},
   "outputs": [],
   "source": []
  },
  {
   "cell_type": "code",
   "execution_count": null,
   "metadata": {},
   "outputs": [],
   "source": []
  }
 ],
 "metadata": {
  "kernelspec": {
   "display_name": "Python 3",
   "language": "python",
   "name": "python3"
  },
  "language_info": {
   "codemirror_mode": {
    "name": "ipython",
    "version": 3
   },
   "file_extension": ".py",
   "mimetype": "text/x-python",
   "name": "python",
   "nbconvert_exporter": "python",
   "pygments_lexer": "ipython3",
   "version": "3.8.5"
  }
 },
 "nbformat": 4,
 "nbformat_minor": 4
}
